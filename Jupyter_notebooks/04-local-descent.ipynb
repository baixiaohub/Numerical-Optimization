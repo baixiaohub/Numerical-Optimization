{
 "cells": [
  {
   "cell_type": "markdown",
   "metadata": {},
   "source": [
    "## 4 Local Descent"
   ]
  },
  {
   "cell_type": "code",
   "execution_count": null,
   "metadata": {},
   "outputs": [],
   "source": [
    "# necessary libraries\n",
    "using Plots\n",
    "using ForwardDiff\n",
    "using Printf\n",
    "using LinearAlgebra\n"
   ]
  },
  {
   "cell_type": "code",
   "execution_count": null,
   "metadata": {},
   "outputs": [],
   "source": [
    "# trial function and gradient\n",
    "#f_booth_0(x1, x2) = (x1 + 2*x2 -7)^2 + (2*x1 + x2 -5)^2\n",
    "#f_booth((x1, x2)) = [(x1 + 2*x2 -7)^2 + (2*x1 + x2 -5)^2]\n",
    "\n",
    "f_0(x1, x2) = x1^2 + x1*x2 + x2^2\n",
    "f((x1, x2)) = [x1^2 + x1*x2 + x2^2]\n",
    "\n",
    "function f_prime(a)\n",
    "    return ForwardDiff.jacobian(f, a)[1,:]\n",
    "end\n",
    "\n",
    "x0 = [1.0, 2.0]\n",
    "println(f(x0))\n",
    "println(f_prime(x0))"
   ]
  },
  {
   "cell_type": "code",
   "execution_count": null,
   "metadata": {},
   "outputs": [],
   "source": [
    "# plot function\n",
    "x = -5:1:8\n",
    "y = -5:1:8\n",
    "plot(\n",
    "contour(x, y, f_0; levels = collect(0:1:30)),\n",
    "contourf(x, y, f_0; levels = collect(0:1:30)),    \n",
    "size=[800, 300]\n",
    ")"
   ]
  },
  {
   "cell_type": "code",
   "execution_count": null,
   "metadata": {},
   "outputs": [],
   "source": [
    "x0 = [1, 2]\n",
    "d = -f_prime(x0)\n",
    "n, max = 101, 1\n",
    "res = max/(n-1)\n",
    "a0 = 0:res:max\n",
    "y0 = zeros(n)\n",
    "\n",
    "println(\"f(x) along the direction: \", d)\n",
    "for i in 1:1:n\n",
    "    y0[i] = f(x0 + a0[i]*d)[1]\n",
    "    #@printf(\"%4d %8.3f %8.3f  %6.3f %6.3f\\n\",i, a0[i], y0[i], (x0+a0[i]*d)[1], (x0+a0[i]*d)[2])\n",
    "end\n",
    "plot(a0, y0, xlabel=\"a\")\n",
    "\n",
    "    "
   ]
  },
  {
   "cell_type": "code",
   "execution_count": null,
   "metadata": {},
   "outputs": [],
   "source": [
    "function strong_backtracking(f, ∇, x, d; α=5, β=1e-4, σ=0.1) \n",
    "    y0, g0, y_prev, α_prev = f(x)[1], ∇(x)⋅d, NaN, 0\n",
    "    αlo, αhi = NaN, NaN\n",
    "    # bracket phase\n",
    "    while true\n",
    "        y = f(x + α*d)[1]\n",
    "        if y > y0 + β*α*g0 || (!isnan(y_prev) && y ≥ y_prev) \n",
    "            αlo, αhi = α_prev, α\n",
    "            break \n",
    "        end\n",
    "                \n",
    "        g = ∇(x + α*d)⋅d \n",
    "        if abs(g) ≤ -σ*g0\n",
    "            return α \n",
    "        elseif g ≥ 0\n",
    "            αlo, αhi = α, α_prev\n",
    "            break \n",
    "        end\n",
    "        y_prev, α_prev, α = y, α, 2α \n",
    "    end\n",
    "    \n",
    "    @printf(\"The initial interval: %6.3f %6.3f\\n\", αlo, αhi)\n",
    "\n",
    "    # zoom phase\n",
    "    ylo = f(x + αlo*d)[1]\n",
    "    n = 0\n",
    "    while n < 10\n",
    "        α = (αlo + αhi)/2\n",
    "        y = f(x + α*d)[1]\n",
    "        @printf(\"The interval: %6.3f %6.3f\\n\", αlo, αhi)\n",
    "        if y > y0 + β*α*g0 || y ≥ ylo #\n",
    "            @printf(\"No sufficient decrease: %6.3f %6.3f %6.3f %6.3f\\n\", α, y, y0, ylo)\n",
    "            αhi = α \n",
    "        else\n",
    "            g = ∇(x + α*d)⋅d \n",
    "            if abs(g) ≤ -σ*g0\n",
    "                return α\n",
    "            elseif g*(αhi - αlo) ≥ 0\n",
    "                αhi = αlo \n",
    "            end\n",
    "            αlo = α \n",
    "        end\n",
    "        n += 1\n",
    "    end \n",
    "end\n",
    "\n",
    "strong_backtracking(f, f_prime, x0, d)"
   ]
  },
  {
   "cell_type": "code",
   "execution_count": null,
   "metadata": {},
   "outputs": [],
   "source": []
  }
 ],
 "metadata": {
  "kernelspec": {
   "display_name": "Julia 1.0.5",
   "language": "julia",
   "name": "julia-1.0"
  },
  "language_info": {
   "file_extension": ".jl",
   "mimetype": "application/julia",
   "name": "julia",
   "version": "1.0.5"
  }
 },
 "nbformat": 4,
 "nbformat_minor": 2
}
