{
 "cells": [
  {
   "cell_type": "markdown",
   "metadata": {},
   "source": [
    "# 3 Bracketing methods"
   ]
  },
  {
   "cell_type": "code",
   "execution_count": 70,
   "metadata": {},
   "outputs": [
    {
     "data": {
      "text/plain": [
       "f_test (generic function with 1 method)"
      ]
     },
     "execution_count": 70,
     "metadata": {},
     "output_type": "execute_result"
    }
   ],
   "source": [
    "# some necessary preparation\n",
    "using Plots\n",
    "using Printf\n",
    "\n",
    "f_test(x) = x^2 - 3*x "
   ]
  },
  {
   "cell_type": "code",
   "execution_count": 60,
   "metadata": {},
   "outputs": [
    {
     "data": {
      "image/svg+xml": [
       "<?xml version=\"1.0\" encoding=\"utf-8\"?>\n",
       "<svg xmlns=\"http://www.w3.org/2000/svg\" xmlns:xlink=\"http://www.w3.org/1999/xlink\" width=\"600\" height=\"400\" viewBox=\"0 0 2400 1600\">\n",
       "<defs>\n",
       "  <clipPath id=\"clip9200\">\n",
       "    <rect x=\"0\" y=\"0\" width=\"2400\" height=\"1600\"/>\n",
       "  </clipPath>\n",
       "</defs>\n",
       "<path clip-path=\"url(#clip9200)\" d=\"\n",
       "M0 1600 L2400 1600 L2400 0 L0 0  Z\n",
       "  \" fill=\"#ffffff\" fill-rule=\"evenodd\" fill-opacity=\"1\"/>\n",
       "<defs>\n",
       "  <clipPath id=\"clip9201\">\n",
       "    <rect x=\"480\" y=\"0\" width=\"1681\" height=\"1600\"/>\n",
       "  </clipPath>\n",
       "</defs>\n",
       "<path clip-path=\"url(#clip9200)\" d=\"\n",
       "M167.279 1487.47 L2352.76 1487.47 L2352.76 47.2441 L167.279 47.2441  Z\n",
       "  \" fill=\"#ffffff\" fill-rule=\"evenodd\" fill-opacity=\"1\"/>\n",
       "<defs>\n",
       "  <clipPath id=\"clip9202\">\n",
       "    <rect x=\"167\" y=\"47\" width=\"2186\" height=\"1441\"/>\n",
       "  </clipPath>\n",
       "</defs>\n",
       "<polyline clip-path=\"url(#clip9202)\" style=\"stroke:#000000; stroke-width:2; stroke-opacity:0.1; fill:none\" points=\"\n",
       "  229.132,1487.47 229.132,47.2441 \n",
       "  \"/>\n",
       "<polyline clip-path=\"url(#clip9202)\" style=\"stroke:#000000; stroke-width:2; stroke-opacity:0.1; fill:none\" points=\"\n",
       "  744.575,1487.47 744.575,47.2441 \n",
       "  \"/>\n",
       "<polyline clip-path=\"url(#clip9202)\" style=\"stroke:#000000; stroke-width:2; stroke-opacity:0.1; fill:none\" points=\"\n",
       "  1260.02,1487.47 1260.02,47.2441 \n",
       "  \"/>\n",
       "<polyline clip-path=\"url(#clip9202)\" style=\"stroke:#000000; stroke-width:2; stroke-opacity:0.1; fill:none\" points=\"\n",
       "  1775.46,1487.47 1775.46,47.2441 \n",
       "  \"/>\n",
       "<polyline clip-path=\"url(#clip9202)\" style=\"stroke:#000000; stroke-width:2; stroke-opacity:0.1; fill:none\" points=\"\n",
       "  2290.9,1487.47 2290.9,47.2441 \n",
       "  \"/>\n",
       "<polyline clip-path=\"url(#clip9202)\" style=\"stroke:#000000; stroke-width:2; stroke-opacity:0.1; fill:none\" points=\"\n",
       "  167.279,1423.6 2352.76,1423.6 \n",
       "  \"/>\n",
       "<polyline clip-path=\"url(#clip9202)\" style=\"stroke:#000000; stroke-width:2; stroke-opacity:0.1; fill:none\" points=\"\n",
       "  167.279,1218.12 2352.76,1218.12 \n",
       "  \"/>\n",
       "<polyline clip-path=\"url(#clip9202)\" style=\"stroke:#000000; stroke-width:2; stroke-opacity:0.1; fill:none\" points=\"\n",
       "  167.279,1012.65 2352.76,1012.65 \n",
       "  \"/>\n",
       "<polyline clip-path=\"url(#clip9202)\" style=\"stroke:#000000; stroke-width:2; stroke-opacity:0.1; fill:none\" points=\"\n",
       "  167.279,807.17 2352.76,807.17 \n",
       "  \"/>\n",
       "<polyline clip-path=\"url(#clip9202)\" style=\"stroke:#000000; stroke-width:2; stroke-opacity:0.1; fill:none\" points=\"\n",
       "  167.279,601.695 2352.76,601.695 \n",
       "  \"/>\n",
       "<polyline clip-path=\"url(#clip9202)\" style=\"stroke:#000000; stroke-width:2; stroke-opacity:0.1; fill:none\" points=\"\n",
       "  167.279,396.219 2352.76,396.219 \n",
       "  \"/>\n",
       "<polyline clip-path=\"url(#clip9202)\" style=\"stroke:#000000; stroke-width:2; stroke-opacity:0.1; fill:none\" points=\"\n",
       "  167.279,190.743 2352.76,190.743 \n",
       "  \"/>\n",
       "<polyline clip-path=\"url(#clip9200)\" style=\"stroke:#000000; stroke-width:4; stroke-opacity:1; fill:none\" points=\"\n",
       "  167.279,1487.47 2352.76,1487.47 \n",
       "  \"/>\n",
       "<polyline clip-path=\"url(#clip9200)\" style=\"stroke:#000000; stroke-width:4; stroke-opacity:1; fill:none\" points=\"\n",
       "  167.279,1487.47 167.279,47.2441 \n",
       "  \"/>\n",
       "<polyline clip-path=\"url(#clip9200)\" style=\"stroke:#000000; stroke-width:4; stroke-opacity:1; fill:none\" points=\"\n",
       "  229.132,1487.47 229.132,1470.19 \n",
       "  \"/>\n",
       "<polyline clip-path=\"url(#clip9200)\" style=\"stroke:#000000; stroke-width:4; stroke-opacity:1; fill:none\" points=\"\n",
       "  744.575,1487.47 744.575,1470.19 \n",
       "  \"/>\n",
       "<polyline clip-path=\"url(#clip9200)\" style=\"stroke:#000000; stroke-width:4; stroke-opacity:1; fill:none\" points=\"\n",
       "  1260.02,1487.47 1260.02,1470.19 \n",
       "  \"/>\n",
       "<polyline clip-path=\"url(#clip9200)\" style=\"stroke:#000000; stroke-width:4; stroke-opacity:1; fill:none\" points=\"\n",
       "  1775.46,1487.47 1775.46,1470.19 \n",
       "  \"/>\n",
       "<polyline clip-path=\"url(#clip9200)\" style=\"stroke:#000000; stroke-width:4; stroke-opacity:1; fill:none\" points=\"\n",
       "  2290.9,1487.47 2290.9,1470.19 \n",
       "  \"/>\n",
       "<polyline clip-path=\"url(#clip9200)\" style=\"stroke:#000000; stroke-width:4; stroke-opacity:1; fill:none\" points=\"\n",
       "  167.279,1423.6 193.505,1423.6 \n",
       "  \"/>\n",
       "<polyline clip-path=\"url(#clip9200)\" style=\"stroke:#000000; stroke-width:4; stroke-opacity:1; fill:none\" points=\"\n",
       "  167.279,1218.12 193.505,1218.12 \n",
       "  \"/>\n",
       "<polyline clip-path=\"url(#clip9200)\" style=\"stroke:#000000; stroke-width:4; stroke-opacity:1; fill:none\" points=\"\n",
       "  167.279,1012.65 193.505,1012.65 \n",
       "  \"/>\n",
       "<polyline clip-path=\"url(#clip9200)\" style=\"stroke:#000000; stroke-width:4; stroke-opacity:1; fill:none\" points=\"\n",
       "  167.279,807.17 193.505,807.17 \n",
       "  \"/>\n",
       "<polyline clip-path=\"url(#clip9200)\" style=\"stroke:#000000; stroke-width:4; stroke-opacity:1; fill:none\" points=\"\n",
       "  167.279,601.695 193.505,601.695 \n",
       "  \"/>\n",
       "<polyline clip-path=\"url(#clip9200)\" style=\"stroke:#000000; stroke-width:4; stroke-opacity:1; fill:none\" points=\"\n",
       "  167.279,396.219 193.505,396.219 \n",
       "  \"/>\n",
       "<polyline clip-path=\"url(#clip9200)\" style=\"stroke:#000000; stroke-width:4; stroke-opacity:1; fill:none\" points=\"\n",
       "  167.279,190.743 193.505,190.743 \n",
       "  \"/>\n",
       "<g clip-path=\"url(#clip9200)\">\n",
       "<text style=\"fill:#000000; fill-opacity:1; font-family:Arial,Helvetica Neue,Helvetica,sans-serif; font-size:48px; text-anchor:middle;\" transform=\"rotate(0, 229.132, 1541.47)\" x=\"229.132\" y=\"1541.47\">-10</text>\n",
       "</g>\n",
       "<g clip-path=\"url(#clip9200)\">\n",
       "<text style=\"fill:#000000; fill-opacity:1; font-family:Arial,Helvetica Neue,Helvetica,sans-serif; font-size:48px; text-anchor:middle;\" transform=\"rotate(0, 744.575, 1541.47)\" x=\"744.575\" y=\"1541.47\">-5</text>\n",
       "</g>\n",
       "<g clip-path=\"url(#clip9200)\">\n",
       "<text style=\"fill:#000000; fill-opacity:1; font-family:Arial,Helvetica Neue,Helvetica,sans-serif; font-size:48px; text-anchor:middle;\" transform=\"rotate(0, 1260.02, 1541.47)\" x=\"1260.02\" y=\"1541.47\">0</text>\n",
       "</g>\n",
       "<g clip-path=\"url(#clip9200)\">\n",
       "<text style=\"fill:#000000; fill-opacity:1; font-family:Arial,Helvetica Neue,Helvetica,sans-serif; font-size:48px; text-anchor:middle;\" transform=\"rotate(0, 1775.46, 1541.47)\" x=\"1775.46\" y=\"1541.47\">5</text>\n",
       "</g>\n",
       "<g clip-path=\"url(#clip9200)\">\n",
       "<text style=\"fill:#000000; fill-opacity:1; font-family:Arial,Helvetica Neue,Helvetica,sans-serif; font-size:48px; text-anchor:middle;\" transform=\"rotate(0, 2290.9, 1541.47)\" x=\"2290.9\" y=\"1541.47\">10</text>\n",
       "</g>\n",
       "<g clip-path=\"url(#clip9200)\">\n",
       "<text style=\"fill:#000000; fill-opacity:1; font-family:Arial,Helvetica Neue,Helvetica,sans-serif; font-size:48px; text-anchor:end;\" transform=\"rotate(0, 143.279, 1441.1)\" x=\"143.279\" y=\"1441.1\">0</text>\n",
       "</g>\n",
       "<g clip-path=\"url(#clip9200)\">\n",
       "<text style=\"fill:#000000; fill-opacity:1; font-family:Arial,Helvetica Neue,Helvetica,sans-serif; font-size:48px; text-anchor:end;\" transform=\"rotate(0, 143.279, 1235.62)\" x=\"143.279\" y=\"1235.62\">20</text>\n",
       "</g>\n",
       "<g clip-path=\"url(#clip9200)\">\n",
       "<text style=\"fill:#000000; fill-opacity:1; font-family:Arial,Helvetica Neue,Helvetica,sans-serif; font-size:48px; text-anchor:end;\" transform=\"rotate(0, 143.279, 1030.15)\" x=\"143.279\" y=\"1030.15\">40</text>\n",
       "</g>\n",
       "<g clip-path=\"url(#clip9200)\">\n",
       "<text style=\"fill:#000000; fill-opacity:1; font-family:Arial,Helvetica Neue,Helvetica,sans-serif; font-size:48px; text-anchor:end;\" transform=\"rotate(0, 143.279, 824.67)\" x=\"143.279\" y=\"824.67\">60</text>\n",
       "</g>\n",
       "<g clip-path=\"url(#clip9200)\">\n",
       "<text style=\"fill:#000000; fill-opacity:1; font-family:Arial,Helvetica Neue,Helvetica,sans-serif; font-size:48px; text-anchor:end;\" transform=\"rotate(0, 143.279, 619.195)\" x=\"143.279\" y=\"619.195\">80</text>\n",
       "</g>\n",
       "<g clip-path=\"url(#clip9200)\">\n",
       "<text style=\"fill:#000000; fill-opacity:1; font-family:Arial,Helvetica Neue,Helvetica,sans-serif; font-size:48px; text-anchor:end;\" transform=\"rotate(0, 143.279, 413.719)\" x=\"143.279\" y=\"413.719\">100</text>\n",
       "</g>\n",
       "<g clip-path=\"url(#clip9200)\">\n",
       "<text style=\"fill:#000000; fill-opacity:1; font-family:Arial,Helvetica Neue,Helvetica,sans-serif; font-size:48px; text-anchor:end;\" transform=\"rotate(0, 143.279, 208.243)\" x=\"143.279\" y=\"208.243\">120</text>\n",
       "</g>\n",
       "<polyline clip-path=\"url(#clip9202)\" style=\"stroke:#009af9; stroke-width:4; stroke-opacity:1; fill:none\" points=\"\n",
       "  229.132,88.0053 239.441,111.532 249.75,134.854 260.059,157.97 270.368,180.88 280.677,203.585 290.985,226.085 301.294,248.379 311.603,270.468 321.912,292.351 \n",
       "  332.221,314.029 342.53,335.501 352.838,356.768 363.147,377.829 373.456,398.685 383.765,419.335 394.074,439.78 404.383,460.019 414.692,480.053 425,499.881 \n",
       "  435.309,519.504 445.618,538.922 455.927,558.134 466.236,577.14 476.545,595.941 486.854,614.537 497.162,632.927 507.471,651.112 517.78,669.091 528.089,686.864 \n",
       "  538.398,704.432 548.707,721.795 559.016,738.952 569.324,755.904 579.633,772.65 589.942,789.191 600.251,805.527 610.56,821.656 620.869,837.581 631.178,853.3 \n",
       "  641.486,868.813 651.795,884.121 662.104,899.223 672.413,914.12 682.722,928.812 693.031,943.298 703.339,957.579 713.648,971.654 723.957,985.523 734.266,999.187 \n",
       "  744.575,1012.65 754.884,1025.9 765.193,1038.95 775.501,1051.79 785.81,1064.43 796.119,1076.86 806.428,1089.08 816.737,1101.1 827.046,1112.92 837.355,1124.53 \n",
       "  847.663,1135.93 857.972,1147.13 868.281,1158.12 878.59,1168.91 888.899,1179.49 899.208,1189.87 909.517,1200.04 919.825,1210.01 930.134,1219.77 940.443,1229.32 \n",
       "  950.752,1238.67 961.061,1247.81 971.37,1256.75 981.679,1265.48 991.987,1274.01 1002.3,1282.33 1012.61,1290.45 1022.91,1298.36 1033.22,1306.07 1043.53,1313.57 \n",
       "  1053.84,1320.86 1064.15,1327.95 1074.46,1334.83 1084.77,1341.51 1095.08,1347.98 1105.38,1354.25 1115.69,1360.31 1126,1366.17 1136.31,1371.82 1146.62,1377.26 \n",
       "  1156.93,1382.5 1167.24,1387.54 1177.55,1392.37 1187.86,1396.99 1198.16,1401.41 1208.47,1405.62 1218.78,1409.63 1229.09,1413.43 1239.4,1417.02 1249.71,1420.41 \n",
       "  1260.02,1423.6 1270.33,1426.58 1280.64,1429.35 1290.94,1431.92 1301.25,1434.28 1311.56,1436.44 1321.87,1438.39 1332.18,1440.14 1342.49,1441.68 1352.8,1443.01 \n",
       "  1363.11,1444.15 1373.41,1445.07 1383.72,1445.79 1394.03,1446.3 1404.34,1446.61 1414.65,1446.71 1424.96,1446.61 1435.27,1446.3 1445.58,1445.79 1455.89,1445.07 \n",
       "  1466.19,1444.15 1476.5,1443.01 1486.81,1441.68 1497.12,1440.14 1507.43,1438.39 1517.74,1436.44 1528.05,1434.28 1538.36,1431.92 1548.67,1429.35 1558.97,1426.58 \n",
       "  1569.28,1423.6 1579.59,1420.41 1589.9,1417.02 1600.21,1413.43 1610.52,1409.63 1620.83,1405.62 1631.14,1401.41 1641.45,1396.99 1651.75,1392.37 1662.06,1387.54 \n",
       "  1672.37,1382.5 1682.68,1377.26 1692.99,1371.82 1703.3,1366.17 1713.61,1360.31 1723.92,1354.25 1734.22,1347.98 1744.53,1341.51 1754.84,1334.83 1765.15,1327.95 \n",
       "  1775.46,1320.86 1785.77,1313.57 1796.08,1306.07 1806.39,1298.36 1816.7,1290.45 1827,1282.33 1837.31,1274.01 1847.62,1265.48 1857.93,1256.75 1868.24,1247.81 \n",
       "  1878.55,1238.67 1888.86,1229.32 1899.17,1219.77 1909.48,1210.01 1919.78,1200.04 1930.09,1189.87 1940.4,1179.49 1950.71,1168.91 1961.02,1158.12 1971.33,1147.13 \n",
       "  1981.64,1135.93 1991.95,1124.53 2002.25,1112.92 2012.56,1101.1 2022.87,1089.08 2033.18,1076.86 2043.49,1064.43 2053.8,1051.79 2064.11,1038.95 2074.42,1025.9 \n",
       "  2084.73,1012.65 2095.03,999.187 2105.34,985.523 2115.65,971.654 2125.96,957.579 2136.27,943.298 2146.58,928.812 2156.89,914.12 2167.2,899.223 2177.51,884.121 \n",
       "  2187.81,868.813 2198.12,853.3 2208.43,837.581 2218.74,821.656 2229.05,805.527 2239.36,789.191 2249.67,772.65 2259.98,755.904 2270.29,738.952 2280.59,721.795 \n",
       "  2290.9,704.432 \n",
       "  \"/>\n",
       "<path clip-path=\"url(#clip9200)\" d=\"\n",
       "M1989.93 251.724 L2280.76 251.724 L2280.76 130.764 L1989.93 130.764  Z\n",
       "  \" fill=\"#ffffff\" fill-rule=\"evenodd\" fill-opacity=\"1\"/>\n",
       "<polyline clip-path=\"url(#clip9200)\" style=\"stroke:#000000; stroke-width:4; stroke-opacity:1; fill:none\" points=\"\n",
       "  1989.93,251.724 2280.76,251.724 2280.76,130.764 1989.93,130.764 1989.93,251.724 \n",
       "  \"/>\n",
       "<polyline clip-path=\"url(#clip9200)\" style=\"stroke:#009af9; stroke-width:4; stroke-opacity:1; fill:none\" points=\"\n",
       "  2013.93,191.244 2157.93,191.244 \n",
       "  \"/>\n",
       "<g clip-path=\"url(#clip9200)\">\n",
       "<text style=\"fill:#000000; fill-opacity:1; font-family:Arial,Helvetica Neue,Helvetica,sans-serif; font-size:48px; text-anchor:start;\" transform=\"rotate(0, 2181.93, 208.744)\" x=\"2181.93\" y=\"208.744\">y1</text>\n",
       "</g>\n",
       "</svg>\n"
      ]
     },
     "execution_count": 60,
     "metadata": {},
     "output_type": "execute_result"
    }
   ],
   "source": [
    "plot(f_test, -10:0.1:10)"
   ]
  },
  {
   "cell_type": "markdown",
   "metadata": {},
   "source": [
    "## 3.1 Initial bracket interval"
   ]
  },
  {
   "cell_type": "code",
   "execution_count": 66,
   "metadata": {},
   "outputs": [
    {
     "data": {
      "text/plain": [
       "bracket_minimum (generic function with 2 methods)"
      ]
     },
     "execution_count": 66,
     "metadata": {},
     "output_type": "execute_result"
    }
   ],
   "source": [
    "function bracket_minimum(f, x=0.0; s=1e-2, k=2.0) \n",
    "    a, ya = x, f(x)\n",
    "    b, yb = a + s, f(a + s) \n",
    "    if yb > ya\n",
    "        a, b = b, a\n",
    "        ya, yb = yb, ya\n",
    "        s = -s\n",
    "    end\n",
    "    while true\n",
    "        c, yc = b + s, f(b + s) \n",
    "        if yc > yb\n",
    "            return a < c ? (a, c) : (c, a) \n",
    "        end\n",
    "        a, ya, b, yb = b, yb, c, yc\n",
    "        s *= k \n",
    "    end\n",
    "end"
   ]
  },
  {
   "cell_type": "code",
   "execution_count": 68,
   "metadata": {},
   "outputs": [
    {
     "data": {
      "text/plain": [
       "(1.32, 2.2800000000000002)"
      ]
     },
     "execution_count": 68,
     "metadata": {},
     "output_type": "execute_result"
    }
   ],
   "source": [
    "bracket_minimum(f_test, 1.0)"
   ]
  },
  {
   "cell_type": "code",
   "execution_count": 82,
   "metadata": {},
   "outputs": [
    {
     "data": {
      "text/plain": [
       "bisection_search (generic function with 1 method)"
      ]
     },
     "execution_count": 82,
     "metadata": {},
     "output_type": "execute_result"
    }
   ],
   "source": [
    "function bisection_search(f, a, b, n) \n",
    "    ρ = 1/2\n",
    "    d = ρ * b + (1 - ρ)*a \n",
    "    yd = f(d)\n",
    "    for i = 1 : n-1\n",
    "        c = ρ*a + (1 - ρ)*b \n",
    "        yc = f(c)\n",
    "        if yc < yd\n",
    "            b, d, yd = d, c, yc\n",
    "        else\n",
    "            a, b = b, c \n",
    "        end\n",
    "        @printf(\"%d %6.3f %6.3f %6.3f\\n\", i, a, b, abs(a-b))\n",
    "    end\n",
    "return a < b ? (a, b) : (b, a) \n",
    "end"
   ]
  },
  {
   "cell_type": "code",
   "execution_count": 83,
   "metadata": {},
   "outputs": [
    {
     "name": "stdout",
     "output_type": "stream",
     "text": [
      "1  2.000  0.500  1.500\n",
      "2  2.000  0.500  1.500\n",
      "3  0.500  1.250  0.750\n",
      "4  1.250  0.875  0.375\n",
      "5  0.875  1.063  0.188\n",
      "6  1.063  0.969  0.094\n",
      "7  0.969  1.016  0.047\n",
      "8  1.016  0.992  0.023\n",
      "9  0.992  1.004  0.012\n"
     ]
    },
    {
     "data": {
      "text/plain": [
       "(0.9921875, 1.00390625)"
      ]
     },
     "execution_count": 83,
     "metadata": {},
     "output_type": "execute_result"
    }
   ],
   "source": [
    "bisection_search(f_test, -1, 2, 10) "
   ]
  },
  {
   "cell_type": "markdown",
   "metadata": {},
   "source": [
    "## 3.2 Fibonaci search"
   ]
  },
  {
   "cell_type": "code",
   "execution_count": 69,
   "metadata": {},
   "outputs": [
    {
     "name": "stdout",
     "output_type": "stream",
     "text": [
      "1:  1.0\n",
      "2:  2.0\n",
      "3:  3.0000000000000004\n",
      "4:  5.000000000000001\n",
      "5:  8.000000000000002\n",
      "6:  13.000000000000002\n",
      "7:  21.000000000000004\n",
      "8:  34.00000000000001\n",
      "9:  55.000000000000014\n",
      "10:  89.00000000000003\n"
     ]
    }
   ],
   "source": [
    "# Fibonaci sequence\n",
    "f(k) = 1/√5* ( ((1+√5)/2)^(k+1) - ((1-√5)/2)^(k+1) )\n",
    "for i in 1:10\n",
    "    println(i, \":  \", f(i))\n",
    "end"
   ]
  },
  {
   "cell_type": "code",
   "execution_count": 71,
   "metadata": {},
   "outputs": [
    {
     "data": {
      "text/plain": [
       "fibonacci_search (generic function with 1 method)"
      ]
     },
     "execution_count": 71,
     "metadata": {},
     "output_type": "execute_result"
    }
   ],
   "source": [
    "function fibonacci_search(f, a, b, n; ε=0.01) \n",
    "    ϕ = (1+√5)/2\n",
    "    s = (1-√5)/(1+√5)\n",
    "    ρ = 1 / (ϕ*(1-s^(n+1))/(1-s^n))\n",
    "    d = ρ*b + (1-ρ)*a\n",
    "    yd = f(d)\n",
    "    for i in 1 : n-1\n",
    "        if i == n-1\n",
    "            c = ε*a + (1-ε)*d \n",
    "        else\n",
    "            c = ρ*a + (1-ρ)*b \n",
    "        end\n",
    "        yc = f(c) \n",
    "        if yc < yd\n",
    "            b, d, yd = d, c, yc\n",
    "        else\n",
    "            a, b = b, c \n",
    "        end\n",
    "        ρ = 1 / (ϕ*(1-s^(n-i+1))/(1-s^(n-i))) \n",
    "        @printf(\"%d %6.3f %6.3f %6.3f\\n\", i, a, b, abs(a-b))\n",
    "    end\n",
    "return a < b ? (a, b) : (b, a) \n",
    "end"
   ]
  },
  {
   "cell_type": "code",
   "execution_count": 80,
   "metadata": {},
   "outputs": [
    {
     "name": "stdout",
     "output_type": "stream",
     "text": [
      "1  2.000  0.146  1.854\n",
      "2  2.000  0.854  1.146\n",
      "3  2.000  1.292  0.708\n",
      "4  1.292  1.730  0.438\n",
      "5  1.292  1.562  0.270\n",
      "6  1.562  1.393  0.169\n",
      "7  1.562  1.461  0.101\n",
      "8  1.461  1.528  0.067\n",
      "9  1.528  1.494  0.034\n"
     ]
    },
    {
     "data": {
      "text/plain": [
       "(1.4940449438202246, 1.5280898876404494)"
      ]
     },
     "execution_count": 80,
     "metadata": {},
     "output_type": "execute_result"
    }
   ],
   "source": [
    "fibonacci_search(f_test, -1, 2, 10; ε=0.01) "
   ]
  },
  {
   "cell_type": "markdown",
   "metadata": {},
   "source": [
    "## 3.3 Golden ratio search"
   ]
  },
  {
   "cell_type": "code",
   "execution_count": 73,
   "metadata": {},
   "outputs": [
    {
     "data": {
      "text/plain": [
       "golden_section_search (generic function with 1 method)"
      ]
     },
     "execution_count": 73,
     "metadata": {},
     "output_type": "execute_result"
    }
   ],
   "source": [
    "function golden_section_search(f, a, b, n) \n",
    "    ϕ = (1+√5)/2\n",
    "    ρ = ϕ-1\n",
    "    d = ρ * b + (1 - ρ)*a \n",
    "    yd = f(d)\n",
    "    for i = 1 : n-1\n",
    "        c = ρ*a + (1 - ρ)*b \n",
    "        yc = f(c)\n",
    "        if yc < yd\n",
    "            b, d, yd = d, c, yc\n",
    "        else\n",
    "            a, b = b, c \n",
    "        end\n",
    "        @printf(\"%d %6.3f %6.3f %6.3f\\n\", i, a, b, abs(a-b))\n",
    "    end\n",
    "return a < b ? (a, b) : (b, a) \n",
    "end"
   ]
  },
  {
   "cell_type": "code",
   "execution_count": 81,
   "metadata": {},
   "outputs": [
    {
     "name": "stdout",
     "output_type": "stream",
     "text": [
      "1  2.000  0.146  1.854\n",
      "2  2.000  0.854  1.146\n",
      "3  2.000  1.292  0.708\n",
      "4  1.292  1.729  0.438\n",
      "5  1.292  1.562  0.271\n",
      "6  1.562  1.395  0.167\n",
      "7  1.562  1.459  0.103\n",
      "8  1.459  1.523  0.064\n",
      "9  1.523  1.483  0.039\n"
     ]
    },
    {
     "data": {
      "text/plain": [
       "(1.4833721937705047, 1.5228390462597792)"
      ]
     },
     "execution_count": 81,
     "metadata": {},
     "output_type": "execute_result"
    }
   ],
   "source": [
    "golden_section_search(f_test, -1, 2, 10) "
   ]
  },
  {
   "cell_type": "markdown",
   "metadata": {},
   "source": [
    "## 3.4 Bisection search"
   ]
  },
  {
   "cell_type": "code",
   "execution_count": null,
   "metadata": {},
   "outputs": [],
   "source": []
  }
 ],
 "metadata": {
  "kernelspec": {
   "display_name": "Julia 1.0.5",
   "language": "julia",
   "name": "julia-1.0"
  },
  "language_info": {
   "file_extension": ".jl",
   "mimetype": "application/julia",
   "name": "julia",
   "version": "1.0.5"
  }
 },
 "nbformat": 4,
 "nbformat_minor": 2
}
